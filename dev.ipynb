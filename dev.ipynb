{
 "cells": [
  {
   "cell_type": "code",
   "execution_count": 1,
   "id": "f42579a1-32f2-4f06-b3b7-5a0cba2bc1ce",
   "metadata": {
    "tags": []
   },
   "outputs": [],
   "source": [
    "%load_ext autoreload\n",
    "%autoreload 2\n",
    "\n",
    "from dynamic_graphs import *"
   ]
  },
  {
   "cell_type": "code",
   "execution_count": 7,
   "id": "5881412f-ba22-46e7-b765-e9b527dae6cb",
   "metadata": {
    "tags": []
   },
   "outputs": [
    {
     "ename": "TypeError",
     "evalue": "'mappingproxy' object does not support item assignment",
     "output_type": "error",
     "traceback": [
      "\u001b[0;31m---------------------------------------------------------------------------\u001b[0m",
      "\u001b[0;31mTypeError\u001b[0m                                 Traceback (most recent call last)",
      "Cell \u001b[0;32mIn[7], line 1\u001b[0m\n\u001b[0;32m----> 1\u001b[0m \u001b[43mCONTROLS\u001b[49m\u001b[38;5;241;43m.\u001b[39;49m\u001b[43m_items\u001b[49m\u001b[43m[\u001b[49m\u001b[38;5;124;43m'\u001b[39;49m\u001b[38;5;124;43mnew\u001b[39;49m\u001b[38;5;124;43m'\u001b[39;49m\u001b[43m]\u001b[49m \u001b[38;5;241m=\u001b[39m \u001b[38;5;241m0\u001b[39m\n",
      "\u001b[0;31mTypeError\u001b[0m: 'mappingproxy' object does not support item assignment"
     ]
    }
   ],
   "source": [
    "CONTROLS._items['new'] = 0"
   ]
  },
  {
   "cell_type": "code",
   "execution_count": null,
   "id": "72a06b35-0f56-4ba3-8a6b-7489e63528cc",
   "metadata": {
    "tags": []
   },
   "outputs": [],
   "source": [
    "controls = Controls([Control('xaxis', 'x-axis :', 'x')])"
   ]
  },
  {
   "cell_type": "code",
   "execution_count": null,
   "id": "5d455ce3-bc4b-486a-b9b3-42c9c74404da",
   "metadata": {
    "tags": []
   },
   "outputs": [],
   "source": [
    "controls.labels"
   ]
  },
  {
   "cell_type": "code",
   "execution_count": null,
   "id": "52a256ed-37c4-4882-9ab6-0b0890d6c424",
   "metadata": {
    "tags": []
   },
   "outputs": [],
   "source": [
    "from sklearn.datasets import load_iris\n",
    "import pandas as pd"
   ]
  },
  {
   "cell_type": "code",
   "execution_count": null,
   "id": "e3e6854e-dfec-4a61-8164-e0e29ef69da3",
   "metadata": {
    "tags": []
   },
   "outputs": [],
   "source": [
    "data = load_iris(as_frame=True)\n",
    "data['target'] = data['target'].map(lambda x: data['target_names'][x])\n",
    "\n",
    "data = pd.concat([data['data'], data['target']], axis=1)"
   ]
  },
  {
   "cell_type": "code",
   "execution_count": null,
   "id": "92e1513a-a14b-4cff-aeff-bda60569f126",
   "metadata": {
    "tags": []
   },
   "outputs": [],
   "source": [
    "data.to_parquet('./iris.parquet')"
   ]
  },
  {
   "cell_type": "code",
   "execution_count": null,
   "id": "90c355d8-a295-41f4-a480-69cc5206e430",
   "metadata": {},
   "outputs": [],
   "source": []
  }
 ],
 "metadata": {
  "kernelspec": {
   "display_name": "Python 3 (ipykernel)",
   "language": "python",
   "name": "python3"
  },
  "language_info": {
   "codemirror_mode": {
    "name": "ipython",
    "version": 3
   },
   "file_extension": ".py",
   "mimetype": "text/x-python",
   "name": "python",
   "nbconvert_exporter": "python",
   "pygments_lexer": "ipython3",
   "version": "3.10.11"
  }
 },
 "nbformat": 4,
 "nbformat_minor": 5
}
